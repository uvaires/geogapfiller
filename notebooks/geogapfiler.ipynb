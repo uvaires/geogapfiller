{
 "cells": [
  {
   "cell_type": "code",
   "execution_count": 9,
   "metadata": {
    "collapsed": true,
    "ExecuteTime": {
     "end_time": "2024-10-04T16:44:33.103800900Z",
     "start_time": "2024-10-04T16:44:33.024331500Z"
    }
   },
   "outputs": [],
   "source": [
    "import os\n",
    "import glob\n",
    "from datetime import datetime\n",
    "from geogapfiller.gapfiller import gapfiller\n",
    "from geogapfiller.imgpredictor import imgpredictor\n",
    "from geogapfiller import utils\n"
   ]
  },
  {
   "cell_type": "markdown",
   "source": [
    "## 1. Gap-filling methods to reconstruct geospatial data\n",
    "This code implements four different gap-filling methods to reconstruct geospatial data. The methods applied are Polynomial, Median, Harmonic, and LightGBM. Gap-filling is crucial for reconstructing data, as clouds, shadows, and other atmospheric conditions often affect the quality of the images. Description of the methods:\n",
    "\n",
    "   - *Median approach*: The median is often favored over other statistical measures, such as the mean, because it is less affected by outliers that may result from atmospheric disturbances or sensor errors. This approach selects the median value from the cloud-free pixels in the time series, offering a straightforward solution. However, it does not account for the broader trends or seasonal variations in the data, which may limit its effectiveness in capturing long-term patterns.\n",
    "\n",
    "   - *Polynomial approach*: The polynomial regression gap-filling approach models the relationship between a dependent variable and one or more independent variables. Higher-degree polynomials can represent more complex relationships, allowing for better data reconstruction. However, as the polynomial degree increases, the model becomes harder to interpret and requires more processing time.\n",
    "\n",
    "    - *Harmonic approach*: The harmonic gap-filling approach leverages a Fourier-like series, using a combination of sine and cosine functions to estimate missing data. This method is widely applied in remote sensing because of its strength in capturing periodic and seasonal variations. Harmonic models tend to excel when data gaps are evenly distributed, as they can smoothly interpolate across time. However, when gaps are uneven or concentrated in specific periods, the model’s accuracy may decline, resulting in less reliable gap-filling.\n",
    "\n",
    "    - *LightGBM approach*: The LightGBM gap-filling approach utilizes a tree-based learning algorithm to model relationships in the data. Unlike harmonic models, which assume periodicity, LightGBM does not rely on any inherent patterns and instead learns from the provided training data. It is known for its efficiency and produces results comparable to the Gradient Boosting Machine. LightGBM excels at capturing complex, nonlinear relationships, making it especially useful when EVI data deviates from a simple sinusoidal pattern.\n",
    "\n",
    "\n",
    "This code can be used to fill gaps in any geospatial dataset, provided there is a stack of raster images available. The models are calibrated using data from a 15-day window—both before and after the target date for each pixel. For edge pixels, the first pixels are filled using the next available 15 days of data, while the last pixels are filled using the preceding 15 days.\n",
    "\n",
    "To ensure accurate gap-filling, the user must extract the dates from the raster images correctly. In this code, dates are formatted as \"YYYYMMDD\" (e.g., \"20230602\"), and the following code snippet is used to extract these dates for filling gaps in the images."
   ],
   "metadata": {
    "collapsed": false
   }
  },
  {
   "cell_type": "code",
   "execution_count": 3,
   "outputs": [],
   "source": [
    "\n",
    "# Function to extract the image dates and create a list of rasters\n",
    "def img_pattern(img_path, pattern=\"NIR\"):\n",
    "    # Get a list of all raster files matching the pattern\n",
    "    img_list = glob.glob(os.path.join(img_path, '**', f\"*{pattern}.tif\"), recursive=True)\n",
    "    # Create an empty list to store the dates\n",
    "    img_dates = []\n",
    "    for img in img_list:\n",
    "        img_date = os.path.basename(img).split(\"_\")[0]  # Extract the date part from the filename\n",
    "        convert_date = datetime.strptime(img_date, '%Y%m%d')\n",
    "        img_dates.append(convert_date)  # Store both the file and the formatted date\n",
    "\n",
    "    return img_list, img_dates\n"
   ],
   "metadata": {
    "collapsed": false,
    "ExecuteTime": {
     "end_time": "2024-10-04T16:18:06.729306200Z",
     "start_time": "2024-10-04T16:18:06.715390100Z"
    }
   }
  },
  {
   "cell_type": "code",
   "execution_count": null,
   "outputs": [],
   "source": [
    "# Define the path to locate the images\n",
    "img_path = r'C:\\geogapfiller\\data'\n",
    "output_path = r'C:\\geogapfiller'\n",
    "\n",
    "# Extract the image dates and create a list of rasters\n",
    "img_list, img_dates = img_pattern(img_path, pattern=\"NIR\")"
   ],
   "metadata": {
    "collapsed": false
   }
  },
  {
   "cell_type": "code",
   "execution_count": 13,
   "outputs": [],
   "source": [
    "# Choose the method to fill the gaps (e.g., 'median', 'polynomial', 'harmonic', 'lightgbm')\n",
    "filler = gapfiller.get_method(\"median\")\n",
    "# If the user wants to modify the parameters of the method, it can be done as follows:\n",
    "#filler = gapfiller.MedianFiller(window_size=15) # Median\n",
    "#filler = gapfiller.PolynomialFiller(poly_degree=2, window_size=15) # Polynomial\n",
    "# filler = gapfiller.HarmonicFiller(window_size=15) # Harmonic\n",
    "# filler = gapfiller.LightGBMFiller(window_size=15, n_estimators=50, random_state=0)\n",
    "\n",
    "# Run the method to fill the gaps in the images\n",
    "raster_filled = gapfiller.run_method(filler,img_list, img_dates)\n"
   ],
   "metadata": {
    "collapsed": false,
    "ExecuteTime": {
     "end_time": "2024-10-04T16:50:36.470433500Z",
     "start_time": "2024-10-04T16:50:32.035817Z"
    }
   }
  },
  {
   "cell_type": "code",
   "execution_count": 14,
   "outputs": [],
   "source": [
    "# Export the filled rater to drive\n",
    "utils._export_raster(output_path,img_list, raster_filled, img_dates, method= \"median\", pattern= 'NIR')"
   ],
   "metadata": {
    "collapsed": false,
    "ExecuteTime": {
     "end_time": "2024-10-04T16:50:38.060736500Z",
     "start_time": "2024-10-04T16:50:37.810220700Z"
    }
   }
  },
  {
   "cell_type": "markdown",
   "source": [
    "## 2.Create a synthetic image time series\n",
    "This code generates a synthetic image time series to obtain the images in a scale in a desired time interval (e.g. 1 - 3 days). The method keeps the original image values and creates new images in the desired interval by using predicting models. It is possible to select four techniques to generate the synthetic images: Linear, Polynomial, Harmonic, and LightGBM."
   ],
   "metadata": {
    "collapsed": false,
    "ExecuteTime": {
     "end_time": "2024-10-02T16:02:15.668873900Z",
     "start_time": "2024-10-02T16:02:15.407165100Z"
    }
   },
   "outputs": [],
   "execution_count": 19
  },
  {
   "cell_type": "code",
   "execution_count": 10,
   "outputs": [],
   "source": [
    "# Choose the method to predict the images (e.g., 'median', 'polynomial', 'harmonic', 'lightgbm')\n",
    "predictor = imgpredictor.get_method('median')\n",
    "# If the user wants to modify the parameters of the method, it can be done as follows:\n",
    "# predictor = imgpredictor.MedianPredictor(window_size=15) # Median\n",
    "# predictor = imgpredictor.PolynomialPredictor(poly_degree=2, window_size=15) # Polynomial\n",
    "# predictor = imgpredictor.HarmonicPredictor(window_size=15) # Harmonic\n",
    "# predictor = imgpredictor.LightGBMPredictor(window_size=15, n_estimators=50, random_state=0) # LightGBM\n",
    "\n",
    "# Run the method to predict the images, change the interval to the desired time interval\n",
    "raster_predicted, dates_ranges = imgpredictor.run_method(predictor, img_list, img_dates, interval=1)"
   ],
   "metadata": {
    "collapsed": false,
    "ExecuteTime": {
     "end_time": "2024-10-04T16:47:47.113241400Z",
     "start_time": "2024-10-04T16:47:20.394330700Z"
    }
   }
  },
  {
   "cell_type": "code",
   "execution_count": 11,
   "outputs": [],
   "source": [
    "utils._export_raster(output_path, img_list, raster_predicted, dates_ranges, method='median_predicted', pattern='NIR')"
   ],
   "metadata": {
    "collapsed": false,
    "ExecuteTime": {
     "end_time": "2024-10-04T16:49:35.971580400Z",
     "start_time": "2024-10-04T16:49:34.640511800Z"
    }
   }
  }
 ],
 "metadata": {
  "kernelspec": {
   "display_name": "Python 3",
   "language": "python",
   "name": "python3"
  },
  "language_info": {
   "codemirror_mode": {
    "name": "ipython",
    "version": 2
   },
   "file_extension": ".py",
   "mimetype": "text/x-python",
   "name": "python",
   "nbconvert_exporter": "python",
   "pygments_lexer": "ipython2",
   "version": "2.7.6"
  }
 },
 "nbformat": 4,
 "nbformat_minor": 0
}
